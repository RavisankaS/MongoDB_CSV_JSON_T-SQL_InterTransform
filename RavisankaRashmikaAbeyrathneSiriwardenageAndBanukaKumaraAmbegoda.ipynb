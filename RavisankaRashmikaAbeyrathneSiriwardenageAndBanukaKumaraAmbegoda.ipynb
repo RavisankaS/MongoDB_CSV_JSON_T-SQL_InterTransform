{
 "cells": [
  {
   "cell_type": "code",
   "execution_count": null,
   "id": "c7df6a6f",
   "metadata": {},
   "outputs": [],
   "source": [
    "#Names : Banuka Kumara Ambegoda , Ravisanka Rashmika Abeyrathne Siriwardenage\n",
    "#Date : 2022-08-14\n",
    "#PROG 1870 - Final Project\n",
    "\n",
    "#Please Run the following cell twice because the database connectivity gives an driver error the first time\n",
    "#which then get fixed when u run it the second time. (No idea why this error occures.)"
   ]
  },
  {
   "cell_type": "code",
   "execution_count": 3,
   "id": "b6ccd191",
   "metadata": {},
   "outputs": [
    {
     "name": "stdout",
     "output_type": "stream",
     "text": [
      "Requirement already satisfied: pymongo in p:\\installation\\anaconda\\lib\\site-packages (4.2.0)\n",
      "Made json file: C:\\project_files\\medals.json >>>>\n",
      "Data added to MongoDB >>>>\n",
      "Created and added SQL tables and data >>>>\n"
     ]
    }
   ],
   "source": [
    "!pip install pymongo\n",
    "#Challenge 1\n",
    "from pymongo import MongoClient as MC\n",
    "import json\n",
    "import csv\n",
    "import pyodbc\n",
    "\n",
    "# csv to json\n",
    "print(\"Transforming json data now >>>>\")\n",
    "with open(\"C:\\project_files\\olympics.csv\", \"r\") as f:\n",
    "    reader = csv.reader(f)\n",
    "    next(reader)\n",
    "    data = []\n",
    "    for row in reader:\n",
    "        data.append({\"country\": row[0], \"summer\": {\"gold\": row[2], \"silver\": row[3], \"bronze\": row[4]}, \"winter\":\n",
    "                    {\"gold\": row[6], \"silver\": row[7], \"bronze\": row[8]}})\n",
    "    \n",
    "    path = \"C:\\project_files\\medals.json\"\n",
    "    with open (path, \"w\") as f:\n",
    "        json.dump(data, f, indent=4)\n",
    "print(f\"Made json file: {path} >>>>\")\n",
    "        \n",
    "#csv to mongo collection\n",
    "server = MC(\"localhost\", 27017)\n",
    "db = server[\"project\"]\n",
    "db.data.insert_many(data)\n",
    "print(\"Data added to MongoDB >>>>\")\n",
    "\n",
    "#csv to sql\n",
    "coll = db.data\n",
    "result = list(coll.find({}, {\"_id\":0,\"country\":1}))\n",
    "result1 = list(coll.find({}, {\"_id\":0,\"country\":1, \"summer\":1, \"winter\":1}))\n",
    "\n",
    "\n",
    "#csv to sql\n",
    "conn = pyodbc.connect(  'Driver={SQL Server};'\n",
    "                        'Server=.\\SQLEXPRESS;'\n",
    "                        'Trusted_Connection=yes;')\n",
    "cursor = conn.cursor()\n",
    "\n",
    "create_db = \"CREATE DATABASE project\"\n",
    "\n",
    "cursor.execute(create_db)\n",
    "\n",
    "cursor.close()\n",
    "conn.close()\n",
    "\n",
    "conn = pyodbc.connect(  'Driver={SQL Server};'\n",
    "                        'Server=.\\SQLEXPRESS;'\n",
    "                        'Database=project;'\n",
    "                        'Trusted_Connection=yes;')\n",
    "cursor = conn.cursor()\n",
    "\n",
    "create_tbl_country= \"\"\"\n",
    "    CREATE TABLE country(\n",
    "        countryID BIGINT IDENTITY(1,1) PRIMARY KEY NOT NULL,\n",
    "        countryName VARCHAR(100)\n",
    "    );\n",
    "\"\"\"\n",
    "cursor.execute(create_tbl_country)\n",
    "\n",
    "create_tbl_countryMedals= \"\"\"\n",
    "    CREATE TABLE country_medals(\n",
    "       cmSeason VARCHAR(1) NOT NULL,\n",
    "       cmGold INT,\n",
    "       cmSilver INT,\n",
    "       cmBronze INT,\n",
    "       countryID BIGINT FOREIGN KEY REFERENCES country(countryID),\n",
    "       cmID BIGINT IDENTITY(1,1) PRIMARY KEY NOT NULL\n",
    "    );\n",
    "\"\"\"\n",
    "cursor.execute(create_tbl_countryMedals)\n",
    "\n",
    "conn.commit()\n",
    "\n",
    "cursor.close()\n",
    "conn.close()\n",
    "\n",
    "conn = pyodbc.connect(  'Driver={SQL Server};'\n",
    "                        'Server=.\\SQLEXPRESS;'\n",
    "                        'Database=project;'\n",
    "                        'Trusted_Connection=yes;')\n",
    "cursor = conn.cursor()\n",
    "\n",
    "for d in result:\n",
    "        conn.execute(f\"INSERT INTO project.dbo.country ([countryName]) VALUES (''{repr(d['country'])}'')\")\n",
    "\n",
    "for d in result1:\n",
    "        query = f\"SELECT countryID FROM country WHERE [countryName] = ''{repr(d['country'])}''\" \n",
    "        val = list(cursor.execute(query))\n",
    "        conn.execute(f\"INSERT INTO project.dbo.country_medals VALUES ('S','{d['summer']['gold']}', '{d['summer']['silver']}', '{d['summer']['bronze']}','{val[0][0]}')\")\n",
    "        conn.execute(f\"INSERT INTO project.dbo.country_medals VALUES ('W','{d['winter']['gold']}', '{d['winter']['silver']}', '{d['winter']['bronze']}','{val[0][0]}')\")\n",
    "\n",
    "conn.commit()\n",
    "\n",
    "cursor.close()\n",
    "conn.close()\n",
    "\n",
    "conn = pyodbc.connect(  'Driver={SQL Server};'\n",
    "                        'Server=.\\SQLEXPRESS;'\n",
    "                        'Database=project;'\n",
    "                        'Trusted_Connection=yes;')\n",
    "cursor = conn.cursor()\n",
    "\n",
    "query = \"SELECT * FROM country\"\n",
    "new_result = list(cursor.execute(query))\n",
    "\n",
    "cursor.close()\n",
    "conn.close()\n",
    "print(\"Created and added SQL tables and data >>>>\")"
   ]
  },
  {
   "cell_type": "code",
   "execution_count": 4,
   "id": "7f73d552",
   "metadata": {},
   "outputs": [
    {
     "name": "stdout",
     "output_type": "stream",
     "text": [
      "\n",
      "Summer Top 3 Countries \n",
      "\n",
      " Country\n",
      "United States (USA) [P] [Q] [R] [Z]    7817\n",
      "Soviet Union (URS) [URS]               3228\n",
      "Great Britain (GBR) [GBR] [Z]          2268\n",
      "Name: ScoreSummer, dtype: int64 \n",
      "\n",
      "\n",
      "\n",
      "Winter Top 3 Countries \n",
      "\n",
      " Country\n",
      "Norway (NOR) [Q]                       1023\n",
      "United States (USA) [P] [Q] [R] [Z]     870\n",
      "Germany (GER) [GER] [Z]                 677\n",
      "Name: ScoreWinter, dtype: int64 \n",
      "\n"
     ]
    },
    {
     "data": {
      "image/png": "[encoded data removed]",
      "text/plain": [
       "<Figure size 360x360 with 1 Axes>"
      ]
     },
     "metadata": {},
     "output_type": "display_data"
    },
    {
     "data": {
      "image/png": "[encoded data removed]",
      "text/plain": [
       "<Figure size 360x360 with 1 Axes>"
      ]
     },
     "metadata": {},
     "output_type": "display_data"
    }
   ],
   "source": [
    "#Challenge 2\n",
    "import pandas as pd\n",
    "\n",
    "# Getting CSV data to pandas\n",
    "import_df = pd.read_csv(\"C:\\project_files\\olympics.csv\",\n",
    "                        usecols=[\"Country\",\"SG\",\"SS\",\"SB\",\"WG\",\"WS\",\"WB\"])\n",
    "\n",
    "#Gretting scores\n",
    "import_df[\"ScoreSummer\"] = import_df[\"SG\"]*5 + import_df[\"SS\"]*3 + import_df[\"SB\"]\n",
    "import_df[\"ScoreWinter\"] = import_df[\"WG\"]*5 + import_df[\"WS\"]*3 + import_df[\"WB\"]\n",
    "\n",
    "#Plotting and outputs\n",
    "\n",
    "summer_df = import_df.nlargest(3, 'ScoreSummer')\n",
    "winter_df = import_df.nlargest(3, 'ScoreWinter')\n",
    "\n",
    "summer_df.set_index('Country', inplace=True)\n",
    "winter_df.set_index('Country', inplace=True)\n",
    "\n",
    "summer_out = summer_df.loc[:,\"ScoreSummer\"]\n",
    "print(f\"\\nSummer Top 3 Countries \\n\\n {summer_out} \\n\\n\\n\")\n",
    "plot = summer_df.plot.pie(y='ScoreSummer', figsize=(5, 5), title ='Top 3 Medal Scores for Summer', label = '', legend=False)\n",
    "\n",
    "winter_out = winter_df.loc[:,\"ScoreWinter\"]\n",
    "print(f\"Winter Top 3 Countries \\n\\n {winter_out} \\n\")\n",
    "plot = winter_df.plot.pie(y='ScoreWinter', figsize=(5, 5), title ='Top 3 Medal Scores for Winter', label = '', legend=False)"
   ]
  },
  {
   "cell_type": "code",
   "execution_count": null,
   "id": "c3ba1efc",
   "metadata": {},
   "outputs": [],
   "source": []
  }
 ],
 "metadata": {
  "kernelspec": {
   "display_name": "Python 3 (ipykernel)",
   "language": "python",
   "name": "python3"
  },
  "language_info": {
   "codemirror_mode": {
    "name": "ipython",
    "version": 3
   },
   "file_extension": ".py",
   "mimetype": "text/x-python",
   "name": "python",
   "nbconvert_exporter": "python",
   "pygments_lexer": "ipython3",
   "version": "3.9.12"
  }
 },
 "nbformat": 4,
 "nbformat_minor": 5
}
